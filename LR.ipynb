{
  "nbformat": 4,
  "nbformat_minor": 0,
  "metadata": {
    "colab": {
      "name": "LR.ipynb",
      "provenance": [],
      "authorship_tag": "ABX9TyMIUfHWzCHFpyYRpsp5RntE",
      "include_colab_link": true
    },
    "kernelspec": {
      "name": "python3",
      "display_name": "Python 3"
    },
    "language_info": {
      "name": "python"
    }
  },
  "cells": [
    {
      "cell_type": "markdown",
      "metadata": {
        "id": "view-in-github",
        "colab_type": "text"
      },
      "source": [
        "<a href=\"https://colab.research.google.com/github/0iui0/ML-Basics/blob/main/LR.ipynb\" target=\"_parent\"><img src=\"https://colab.research.google.com/assets/colab-badge.svg\" alt=\"Open In Colab\"/></a>"
      ]
    },
    {
      "cell_type": "code",
      "execution_count": 1,
      "metadata": {
        "id": "4ocwMEIAGOvc"
      },
      "outputs": [],
      "source": [
        "import pandas as pd\n",
        "import numpy as np\n",
        "from scipy.optimize import minimize"
      ]
    },
    {
      "cell_type": "markdown",
      "source": [
        "#### Logistic regression hypothesis\n",
        "#### $$ h_{\\theta}(x) = g(\\theta^{T}x)$$\n",
        "#### $$ g(z)=\\frac{1}{1+e^{−z}} $$"
      ],
      "metadata": {
        "id": "3LG8M1MpGd2y"
      }
    },
    {
      "cell_type": "code",
      "source": [
        "def sigmoid(z):\n",
        "    return(1 / (1 + np.exp(-z)))"
      ],
      "metadata": {
        "id": "CqXkpzDZGhTQ"
      },
      "execution_count": 2,
      "outputs": []
    },
    {
      "cell_type": "markdown",
      "source": [
        "#### Cost Function\n",
        "#### $$ J(\\theta) = \\frac{1}{m}\\sum_{i=1}^{m}\\big[-y^{(i)}\\, log\\,( h_\\theta\\,(x^{(i)}))-(1-y^{(i)})\\,log\\,(1-h_\\theta(x^{(i)}))\\big]$$\n",
        "#### Vectorized Cost Function\n",
        "#### $$ J(\\theta) = \\frac{1}{m}\\big((\\,log\\,(g(X\\theta))^Ty+(\\,log\\,(1-g(X\\theta))^T(1-y)\\big)$$"
      ],
      "metadata": {
        "id": "p--O77heHHH4"
      }
    },
    {
      "cell_type": "code",
      "source": [
        "def costFunction(theta, X, y):\n",
        "    m=y.size\n",
        "    h = sigmoid(X.dot(theta))\n",
        "    J = -1*1/m((np.log(h)).T.dot(y)+(np.log(1-h)).T.dot(1-y))\n",
        "    if np.isnan(J[0]):\n",
        "        return (np.inf)\n",
        "    return (J[0])"
      ],
      "metadata": {
        "id": "UlTfiG-bGsRW"
      },
      "execution_count": 6,
      "outputs": []
    },
    {
      "cell_type": "markdown",
      "source": [
        "#### Partial derivative\n",
        "\n",
        "#### $$ \\frac{\\delta J(\\theta)}{\\delta\\theta_{j}} = \\frac{1}{m}\\sum_{i=1}^{m} ( h_\\theta (x^{(i)})-y^{(i)})x^{(i)}_{j} $$ \n",
        "#### Vectorized\n",
        "#### $$ \\frac{\\delta J(\\theta)}{\\delta\\theta_{j}} = \\frac{1}{m} X^T(g(X\\theta)-y)$$\n"
      ],
      "metadata": {
        "id": "DFiv3uUqJDHD"
      }
    },
    {
      "cell_type": "code",
      "source": [
        "def gradient(theta, X, y):\n",
        "    m = y.size\n",
        "    h = sigmoid(X.dot(theta.reshape(-1,1)))\n",
        "    grad = (1/m)*X.T.dot(h-y)\n",
        "    return (grad.flatten())"
      ],
      "metadata": {
        "id": "TIEubAfUJCLf"
      },
      "execution_count": 7,
      "outputs": []
    },
    {
      "cell_type": "code",
      "source": [
        "initial_theta = np.zeros(X.shape[1])\n",
        "cost = costFunction(initial_theta, X, y)\n",
        "grad = gradient(initial_theta, X, y)"
      ],
      "metadata": {
        "id": "Dk-YjQG9J0wu"
      },
      "execution_count": null,
      "outputs": []
    },
    {
      "cell_type": "code",
      "source": [
        "res = minimize(costFunction, initial_theta, args=(X,y), method=None, jac=gradient, options={'maxiter':400})\n"
      ],
      "metadata": {
        "id": "Utm27lZZJ5J_"
      },
      "execution_count": null,
      "outputs": []
    },
    {
      "cell_type": "code",
      "source": [
        "def predict(theta, X, threshold=0.5):\n",
        "    p = sigmoid(X.dot(theta.T)) >= threshold\n",
        "    return(p.astype('int'))"
      ],
      "metadata": {
        "id": "7am24kDiKOEa"
      },
      "execution_count": null,
      "outputs": []
    }
  ]
}