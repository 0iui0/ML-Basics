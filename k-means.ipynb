{
  "nbformat": 4,
  "nbformat_minor": 0,
  "metadata": {
    "colab": {
      "name": "Untitled3.ipynb",
      "provenance": []
    },
    "kernelspec": {
      "name": "python3",
      "display_name": "Python 3"
    },
    "language_info": {
      "name": "python"
    }
  },
  "cells": [
    {
      "cell_type": "markdown",
      "source": [
        "## K-Means\n",
        "finds K clusters from \"unlabeled\" data"
      ],
      "metadata": {
        "id": "0xRfHtJkxjAe"
      }
    },
    {
      "cell_type": "code",
      "source": [
        "# data=[(x_0,y_0),...,(x_n,y_n)]\n",
        "# labels=[c_0,...,c_n]"
      ],
      "metadata": {
        "id": "_dg9OpEbyQIn"
      },
      "execution_count": null,
      "outputs": []
    },
    {
      "cell_type": "code",
      "source": [
        "import random\n",
        "def initialize_centroids(data, k):\n",
        "    x_min = y_min = float('inf')\n",
        "    x_max = y_max = float('-inf')\n",
        "    for point in data:\n",
        "        x_min = min(point[0], x_min)\n",
        "        x_max = max(point[0], x_max)\n",
        "        y_min = min(point[1], y_min)\n",
        "        y_max = max(point[1], y_max)\n",
        "    centroids = []\n",
        "    for i in range(k):\n",
        "        centroids.append([x_min+(x_max-x_min)*random.random(), y_min+(y_max-y_min)*random.random()])\n",
        "    \n",
        "    return centroids"
      ],
      "metadata": {
        "id": "BOniDWCwzJiK"
      },
      "execution_count": 4,
      "outputs": []
    },
    {
      "cell_type": "code",
      "source": [
        "def get_dist(point0, point1):\n",
        "    return ((point0[0]-point0[0])**2 + (point1[1]-point1[1])**2)**0.5"
      ],
      "metadata": {
        "id": "scbBJI2w5SIh"
      },
      "execution_count": 7,
      "outputs": []
    },
    {
      "cell_type": "code",
      "source": [
        "# c_i:=argmin||x_i-u_j||\n",
        "def get_labels(data, centroids):\n",
        "    labels = []\n",
        "    for point in data:\n",
        "        min_dist = float('inf')\n",
        "        label = None\n",
        "        for i, centroid in enumerate(centroids):\n",
        "            new_dist = get_dist(point, centroid)\n",
        "            if min_dist > new_dist:\n",
        "                min_dist = new_dist\n",
        "                label = i\n",
        "        labels.append(label)\n",
        "    return labels"
      ],
      "metadata": {
        "id": "U0Ihc8sl1hb_"
      },
      "execution_count": 9,
      "outputs": []
    },
    {
      "cell_type": "code",
      "source": [
        "def update_centroids(points, labels, k):\n",
        "    new_centroids = [[0, 0] for i in range(k)]\n",
        "    counts = [0]*k\n",
        "\n",
        "    # sum of all x and y in each label \n",
        "    for point, label in zip(points, labels):\n",
        "        new_centroids[label][0] += point[0]\n",
        "        new_centroids[label][1] += point[1]\n",
        "        counts[label] += 1\n",
        "\n",
        "    # cal center\n",
        "    for i, (x, y) in enumerate(new_centroids):\n",
        "        new_centroids[i] = (x/counts[i], y/counts[i])\n",
        "    return new_centroids\n",
        "        "
      ],
      "metadata": {
        "id": "HQvXpI2l6hGl"
      },
      "execution_count": 11,
      "outputs": []
    },
    {
      "cell_type": "code",
      "source": [
        "def should_stop(old_centroids, centroids, threshold=1e-5):\n",
        "    total_movement = 0\n",
        "    for old_point, new_point in zip(old_centroids, centroids):\n",
        "        total_movement += get_dist(old_point, new_point)\n",
        "    return total_movement < threshold"
      ],
      "metadata": {
        "id": "v4asJQSa9se-"
      },
      "execution_count": 12,
      "outputs": []
    },
    {
      "cell_type": "code",
      "execution_count": 13,
      "metadata": {
        "id": "NCLaxZ0k_MCA"
      },
      "outputs": [],
      "source": [
        "# init cent\n",
        "# c_i,miu_j\n",
        "def main(data, k):\n",
        "    centroids = initialize_centroids(data, k)\n",
        "    while True:\n",
        "        old_centroids = centroids\n",
        "        labels = get_labels(data, centroids)\n",
        "        centroids = update_centroids(data, labels, k)\n",
        "\n",
        "        if should_stop(old_centroids, centroids):\n",
        "            break\n",
        "\n",
        "    return labels"
      ]
    },
    {
      "cell_type": "code",
      "source": [
        ""
      ],
      "metadata": {
        "id": "jCHP-zsE0N_J"
      },
      "execution_count": null,
      "outputs": []
    }
  ]
}