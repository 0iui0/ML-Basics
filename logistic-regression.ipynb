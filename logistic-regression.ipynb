{
  "nbformat": 4,
  "nbformat_minor": 0,
  "metadata": {
    "colab": {
      "name": "logistic-regression.ipynb",
      "provenance": [],
      "authorship_tag": "ABX9TyO0g4lHGVj4wrgv+XyfUZ0x",
      "include_colab_link": true
    },
    "kernelspec": {
      "name": "python3",
      "display_name": "Python 3"
    },
    "language_info": {
      "name": "python"
    }
  },
  "cells": [
    {
      "cell_type": "markdown",
      "metadata": {
        "id": "view-in-github",
        "colab_type": "text"
      },
      "source": [
        "<a href=\"https://colab.research.google.com/github/0iui0/ML-Basics/blob/main/logistic-regression.ipynb\" target=\"_parent\"><img src=\"https://colab.research.google.com/assets/colab-badge.svg\" alt=\"Open In Colab\"/></a>"
      ]
    },
    {
      "cell_type": "markdown",
      "source": [
        "## Logistic Regression\n"
      ],
      "metadata": {
        "id": "Dhqe7gzLbG6h"
      }
    },
    {
      "cell_type": "code",
      "source": [
        "import random\n",
        "import numpy as np"
      ],
      "metadata": {
        "id": "41T1fhcNk9vK"
      },
      "execution_count": null,
      "outputs": []
    },
    {
      "cell_type": "code",
      "source": [
        "def init_paras(n):\n",
        "    theta0 = 0\n",
        "    theta_other = [random.random() for _ in range(n)]\n",
        "    return theta0, theta_other"
      ],
      "metadata": {
        "id": "nGB2OfmUg2wd"
      },
      "execution_count": null,
      "outputs": []
    },
    {
      "cell_type": "code",
      "source": [
        "def logit(point, theta0, theta_other):\n",
        "    return 1 / (1 + np.exp(-(theta0 + point.dot(theta_other))))"
      ],
      "metadata": {
        "id": "FnzVgDg0kv1N"
      },
      "execution_count": null,
      "outputs": []
    },
    {
      "cell_type": "code",
      "source": [
        "def grad_batch(x, y, theta0, theta_other, m, n, batch_size):\n",
        "    grad_theta0 = 0\n",
        "    grad_theta_other = [0]*n\n",
        "\n",
        "    for _ in range(batch_size):\n",
        "        i = random.randint(0, m - 1)\n",
        "        point = x[i]\n",
        "        pred = logit(point, theta0, theta_other)\n",
        "        for j, feature in enumerate(point):\n",
        "            grad_theta_other[j] += (pred - y[i]) * feature / batch_size\n",
        "        grad_theta0 += (pred - y[i]) / batch_size \n",
        "    return grad_theta0, grad_theta_other"
      ],
      "metadata": {
        "id": "kclGXTgnm5fx"
      },
      "execution_count": null,
      "outputs": []
    },
    {
      "cell_type": "code",
      "source": [
        "def grad(x, y, theta0, theta_other, m, n):\n",
        "    grad_theta0 = 0\n",
        "    grad_theta_other = [0]*n\n",
        "\n",
        "    for i, point in enumerate(x):\n",
        "        pred = logit(point, theta0, theta_other)\n",
        "        for j, feature in enumerate(point):\n",
        "            grad_theta_other[j] += (pred - y[i]) * feature / m\n",
        "        grad_theta0 += (pred - y[i]) / m \n",
        "    return grad_theta0, grad_theta_other"
      ],
      "metadata": {
        "id": "igwUdok3hl_t"
      },
      "execution_count": null,
      "outputs": []
    },
    {
      "cell_type": "code",
      "source": [
        "def update_paras(theta0, theta_other, grad_theta0, grad_theta, lr):\n",
        "    theta0 -= grad_theta0 * lr\n",
        "    for i in range(len(theta_other)):\n",
        "        theta_other[i] -= (grad_theta[i] * lr)\n",
        "    return theta0, theta_other"
      ],
      "metadata": {
        "id": "mcip3k4NlfqG"
      },
      "execution_count": null,
      "outputs": []
    },
    {
      "cell_type": "code",
      "execution_count": null,
      "metadata": {
        "id": "TxJto4pmFvlS"
      },
      "outputs": [],
      "source": [
        "def log_reg(x, y, iter=100, lr=0.01):\n",
        "    m, n = len(x), len(x[0])\n",
        "    theta0, theta_other = init_paras(n)\n",
        "    for _ in range(iter):\n",
        "        grad_theta0, grad_theta = (grad(x, y, theta0, theta_other, m, n))\n",
        "        theta0, theta_other = update_paras(theta0, theta_other, grad_theta0, grad_theta, lr)\n",
        "    return theta0, theta_other"
      ]
    },
    {
      "cell_type": "code",
      "source": [
        ""
      ],
      "metadata": {
        "id": "mTgsMxvVg2BJ"
      },
      "execution_count": null,
      "outputs": []
    }
  ]
}