{
  "nbformat": 4,
  "nbformat_minor": 0,
  "metadata": {
    "colab": {
      "name": "Untitled4.ipynb",
      "provenance": []
    },
    "kernelspec": {
      "name": "python3",
      "display_name": "Python 3"
    },
    "language_info": {
      "name": "python"
    }
  },
  "cells": [
    {
      "cell_type": "markdown",
      "source": [
        "## Logistic Regression\n"
      ],
      "metadata": {
        "id": "Dhqe7gzLbG6h"
      }
    },
    {
      "cell_type": "code",
      "source": [
        "import random\n",
        "import numpy as np"
      ],
      "metadata": {
        "id": "41T1fhcNk9vK"
      },
      "execution_count": 6,
      "outputs": []
    },
    {
      "cell_type": "code",
      "source": [
        "def init_paras(n):\n",
        "    theta0 = 0\n",
        "    theta_other = [random.random() for _ in range(n)]\n",
        "    return theta0, theta_other"
      ],
      "metadata": {
        "id": "nGB2OfmUg2wd"
      },
      "execution_count": 4,
      "outputs": []
    },
    {
      "cell_type": "code",
      "source": [
        "init_paras(9)"
      ],
      "metadata": {
        "colab": {
          "base_uri": "https://localhost:8080/"
        },
        "id": "I155t_jdpdV-",
        "outputId": "c419ca69-0eca-477f-ec6b-78c6abf8590b"
      },
      "execution_count": 12,
      "outputs": [
        {
          "output_type": "execute_result",
          "data": {
            "text/plain": [
              "(0,\n",
              " [0.17423925063107637,\n",
              "  0.38726560658561704,\n",
              "  0.7047928736507382,\n",
              "  0.30987960551837634,\n",
              "  0.2739429455918322,\n",
              "  0.5245125208784857,\n",
              "  0.9973261999244368,\n",
              "  0.3366058842723184,\n",
              "  0.5586160767959858])"
            ]
          },
          "metadata": {},
          "execution_count": 12
        }
      ]
    },
    {
      "cell_type": "code",
      "source": [
        "def logit(point, theta0, theta_other):\n",
        "    return 1 / (1 + np.exp(-(theta0 + point.dot(theta_other))))"
      ],
      "metadata": {
        "id": "FnzVgDg0kv1N"
      },
      "execution_count": 13,
      "outputs": []
    },
    {
      "cell_type": "code",
      "source": [
        "def grad_batch(x, y, theta0, theta_other, m, n, batch_size):\n",
        "    grad_theta0 = 0\n",
        "    grad_theta_other = [0]*n\n",
        "\n",
        "    for _ in range(batch_size):\n",
        "        i = random.randint(0, m - 1)\n",
        "        point = x[i]\n",
        "        pred = logit(point, theta0, theta_other)\n",
        "        for j, feature in enumerate(point):\n",
        "            grad_theta_other[j] += (pred - y[i]) * feature / batch_size\n",
        "        grad_theta0 += (pred - y[i]) / batch_size \n",
        "    return grad_theta0, grad_theta_other"
      ],
      "metadata": {
        "id": "kclGXTgnm5fx"
      },
      "execution_count": 14,
      "outputs": []
    },
    {
      "cell_type": "code",
      "source": [
        "def grad(x, y, theta0, theta_other, m, n):\n",
        "    grad_theta0 = 0\n",
        "    grad_theta_other = [0]*n\n",
        "\n",
        "    for i, point in enumerate(x):\n",
        "        pred = logit(point, theta0, theta_other)\n",
        "        for j, feature in enumerate(point):\n",
        "            grad_theta_other[j] += (pred - y[i]) * feature / m\n",
        "        grad_theta0 += (pred - y[i]) / m \n",
        "    return grad_theta0, grad_theta_other"
      ],
      "metadata": {
        "id": "igwUdok3hl_t"
      },
      "execution_count": 15,
      "outputs": []
    },
    {
      "cell_type": "code",
      "source": [
        "def update_paras(theta0, theta_other, grad_theta0, grad_theta, lr):\n",
        "    theta0 -= grad_theta0 * lr\n",
        "    for i in range(len(theta_other)):\n",
        "        theta_other[i] -= (grad_theta[i] * lr)\n",
        "    return theta0, theta_other"
      ],
      "metadata": {
        "id": "mcip3k4NlfqG"
      },
      "execution_count": 16,
      "outputs": []
    },
    {
      "cell_type": "code",
      "execution_count": 17,
      "metadata": {
        "id": "TxJto4pmFvlS"
      },
      "outputs": [],
      "source": [
        "def log_reg(x, y, iter=100, lr=0.01):\n",
        "    m, n = len(x), len(x[0])\n",
        "    theta0, theta_other = init_paras(n)\n",
        "    for _ in range(iter):\n",
        "        grad_theta0, grad_theta = (grad(x, y, theta0, theta_other, m, n))\n",
        "        theta0, theta_other = update_paras(theta0, theta_other, grad_theta0, grad_theta, lr)\n",
        "    return theta0, theta_other"
      ]
    },
    {
      "cell_type": "code",
      "source": [
        ""
      ],
      "metadata": {
        "id": "mTgsMxvVg2BJ"
      },
      "execution_count": 17,
      "outputs": []
    }
  ]
}